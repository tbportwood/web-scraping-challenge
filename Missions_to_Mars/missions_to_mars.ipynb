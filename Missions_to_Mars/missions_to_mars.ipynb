{
 "cells": [
  {
   "cell_type": "code",
   "execution_count": 32,
   "metadata": {},
   "outputs": [
    {
     "ename": "AttributeError",
     "evalue": "'str' object has no attribute 'a'",
     "output_type": "error",
     "traceback": [
      "\u001b[1;31m---------------------------------------------------------------------------\u001b[0m",
      "\u001b[1;31mAttributeError\u001b[0m                            Traceback (most recent call last)",
      "\u001b[1;32m<ipython-input-32-4654ca4a7ed8>\u001b[0m in \u001b[0;36m<module>\u001b[1;34m\u001b[0m\n\u001b[0;32m     12\u001b[0m \u001b[0mmars_soup\u001b[0m \u001b[1;33m=\u001b[0m \u001b[0mbs\u001b[0m\u001b[1;33m(\u001b[0m\u001b[0mbrowser\u001b[0m\u001b[1;33m.\u001b[0m\u001b[0mhtml\u001b[0m\u001b[1;33m,\u001b[0m \u001b[1;34m'html.parser'\u001b[0m\u001b[1;33m)\u001b[0m\u001b[1;33m\u001b[0m\u001b[1;33m\u001b[0m\u001b[0m\n\u001b[0;32m     13\u001b[0m \u001b[0mnews_title\u001b[0m \u001b[1;33m=\u001b[0m \u001b[0mmars_soup\u001b[0m\u001b[1;33m.\u001b[0m\u001b[0mfind_all\u001b[0m\u001b[1;33m(\u001b[0m\u001b[1;34m'li'\u001b[0m\u001b[1;33m,\u001b[0m \u001b[0mclass_\u001b[0m \u001b[1;33m=\u001b[0m \u001b[1;34m'slide'\u001b[0m\u001b[1;33m)\u001b[0m\u001b[1;33m[\u001b[0m\u001b[1;36m0\u001b[0m\u001b[1;33m]\u001b[0m\u001b[1;33m.\u001b[0m\u001b[0ma\u001b[0m\u001b[1;33m.\u001b[0m\u001b[0mdiv\u001b[0m\u001b[1;33m.\u001b[0m\u001b[0mtext\u001b[0m\u001b[1;33m\u001b[0m\u001b[1;33m\u001b[0m\u001b[0m\n\u001b[1;32m---> 14\u001b[1;33m \u001b[0mnews_p\u001b[0m \u001b[1;33m=\u001b[0m \u001b[0mnews_title\u001b[0m\u001b[1;33m[\u001b[0m\u001b[1;36m0\u001b[0m\u001b[1;33m]\u001b[0m\u001b[1;33m.\u001b[0m\u001b[0ma\u001b[0m\u001b[1;33m.\u001b[0m\u001b[0mh3\u001b[0m\u001b[1;33m.\u001b[0m\u001b[0mtext\u001b[0m\u001b[1;33m\u001b[0m\u001b[1;33m\u001b[0m\u001b[0m\n\u001b[0m",
      "\u001b[1;31mAttributeError\u001b[0m: 'str' object has no attribute 'a'"
     ]
    }
   ],
   "source": [
    "from bs4 import BeautifulSoup as bs\n",
    "import pandas as pd\n",
    "import requests\n",
    "from splinter import Browser\n",
    "\n",
    "#news scraping\n",
    "url = 'https://mars.nasa.gov/news/'\n",
    "executable_path = {'executable_path': 'chromedriver.exe'}\n",
    "browser = Browser('chrome', **executable_path)\n",
    "browser.visit(url)\n",
    "browser.is_element_present_by_css(\"ul.item_list li.slide\", wait_time=1)\n",
    "mars_soup = bs(browser.html, 'html.parser')\n",
    "news_title = mars_soup.find_all('li', class_ = 'slide')[0].a.div.text\n",
    "news_p = news_title[0].a.h3.text"
   ]
  },
  {
   "cell_type": "code",
   "execution_count": 21,
   "metadata": {},
   "outputs": [
    {
     "data": {
      "text/plain": [
       "\"NASA's Mars 2020 Rover Goes Coast-to-Coast to Prep for Launch\""
      ]
     },
     "execution_count": 21,
     "metadata": {},
     "output_type": "execute_result"
    }
   ],
   "source": []
  },
  {
   "cell_type": "code",
   "execution_count": 8,
   "metadata": {},
   "outputs": [],
   "source": [
    "#featured image scraping\n",
    "url = 'https://www.jpl.nasa.gov/spaceimages/?search=&category=Mars'\n",
    "browser.visit(url)\n",
    "html = browser.html\n",
    "soup = bs(html, 'html.parser')\n",
    "featured_image_url = soup.find('article', class_='carousel_item')\n",
    "featured_image_url = featured_image_url[\"style\"]\n",
    "featured_image_url\n",
    "import re\n",
    "featured_image_url = re.findall(\"url\\(\\'/(.+?)\\'\\)\", featured_image_url)\n",
    "featured_image_url\n",
    "featured_image_url = 'https://www.jpl.nasa.gov/' + featured_image_url[0]\n",
    "featured_image_url\n",
    "\n",
    "#weather tweet scraping\n",
    "url = 'https://twitter.com/marswxreport?lang=en'\n",
    "browser.visit(url)\n",
    "browser.is_element_present_by_tag(\"article\", wait_time=10)\n",
    "html = browser.html\n",
    "soup = bs(html, 'html.parser')\n",
    "mars_weather_span = soup.article.find_all('span')\n",
    "print(mars_weather_span)\n",
    "tweet_text = mars_weather_span[4].text\n",
    "mars_weather = tweet_text\n",
    "mars_weather"
   ]
  },
  {
   "cell_type": "code",
   "execution_count": 38,
   "metadata": {},
   "outputs": [],
   "source": [
    "#mars facts\n",
    "url = 'https://space-facts.com/mars/'\n",
    "browser.visit(url)\n",
    "tables = pd.read_html(url)\n",
    "tables[0] = tables[0].rename(columns = {0:\"\", 1:\"Values\"})\n",
    "tables[0] = tables[0].set_index(\"\")\n",
    "\n",
    "#mars_facts = tables[0].to_html()\n",
    "#mars_facts"
   ]
  },
  {
   "cell_type": "code",
   "execution_count": 39,
   "metadata": {},
   "outputs": [
    {
     "data": {
      "text/html": [
       "<div>\n",
       "<style scoped>\n",
       "    .dataframe tbody tr th:only-of-type {\n",
       "        vertical-align: middle;\n",
       "    }\n",
       "\n",
       "    .dataframe tbody tr th {\n",
       "        vertical-align: top;\n",
       "    }\n",
       "\n",
       "    .dataframe thead th {\n",
       "        text-align: right;\n",
       "    }\n",
       "</style>\n",
       "<table border=\"1\" class=\"dataframe\">\n",
       "  <thead>\n",
       "    <tr style=\"text-align: right;\">\n",
       "      <th></th>\n",
       "      <th>Values</th>\n",
       "    </tr>\n",
       "    <tr>\n",
       "      <th></th>\n",
       "      <th></th>\n",
       "    </tr>\n",
       "  </thead>\n",
       "  <tbody>\n",
       "    <tr>\n",
       "      <th>Equatorial Diameter:</th>\n",
       "      <td>6,792 km</td>\n",
       "    </tr>\n",
       "    <tr>\n",
       "      <th>Polar Diameter:</th>\n",
       "      <td>6,752 km</td>\n",
       "    </tr>\n",
       "    <tr>\n",
       "      <th>Mass:</th>\n",
       "      <td>6.39 × 10^23 kg (0.11 Earths)</td>\n",
       "    </tr>\n",
       "    <tr>\n",
       "      <th>Moons:</th>\n",
       "      <td>2 (Phobos &amp; Deimos)</td>\n",
       "    </tr>\n",
       "    <tr>\n",
       "      <th>Orbit Distance:</th>\n",
       "      <td>227,943,824 km (1.38 AU)</td>\n",
       "    </tr>\n",
       "    <tr>\n",
       "      <th>Orbit Period:</th>\n",
       "      <td>687 days (1.9 years)</td>\n",
       "    </tr>\n",
       "    <tr>\n",
       "      <th>Surface Temperature:</th>\n",
       "      <td>-87 to -5 °C</td>\n",
       "    </tr>\n",
       "    <tr>\n",
       "      <th>First Record:</th>\n",
       "      <td>2nd millennium BC</td>\n",
       "    </tr>\n",
       "    <tr>\n",
       "      <th>Recorded By:</th>\n",
       "      <td>Egyptian astronomers</td>\n",
       "    </tr>\n",
       "  </tbody>\n",
       "</table>\n",
       "</div>"
      ],
      "text/plain": [
       "                                             Values\n",
       "                                                   \n",
       "Equatorial Diameter:                       6,792 km\n",
       "Polar Diameter:                            6,752 km\n",
       "Mass:                 6.39 × 10^23 kg (0.11 Earths)\n",
       "Moons:                          2 (Phobos & Deimos)\n",
       "Orbit Distance:            227,943,824 km (1.38 AU)\n",
       "Orbit Period:                  687 days (1.9 years)\n",
       "Surface Temperature:                   -87 to -5 °C\n",
       "First Record:                     2nd millennium BC\n",
       "Recorded By:                   Egyptian astronomers"
      ]
     },
     "execution_count": 39,
     "metadata": {},
     "output_type": "execute_result"
    }
   ],
   "source": [
    "tables[0]"
   ]
  },
  {
   "cell_type": "code",
   "execution_count": 8,
   "metadata": {},
   "outputs": [
    {
     "name": "stdout",
     "output_type": "stream",
     "text": [
      "[<span class=\"css-901oao css-16my406 r-1qd0xha r-ad9z0x r-bcqeeo r-qvutc0\"><span class=\"css-901oao css-16my406 r-1qd0xha r-ad9z0x r-bcqeeo r-qvutc0\">Mars Weather</span></span>, <span class=\"css-901oao css-16my406 r-1qd0xha r-ad9z0x r-bcqeeo r-qvutc0\">Mars Weather</span>, <span class=\"css-901oao css-16my406 r-1qd0xha r-ad9z0x r-bcqeeo r-qvutc0\">@MarsWxReport</span>, <span class=\"css-901oao css-16my406 r-1qd0xha r-ad9z0x r-bcqeeo r-qvutc0\">·</span>, <span class=\"css-901oao css-16my406 r-1qd0xha r-ad9z0x r-bcqeeo r-qvutc0\">InSight sol 433 (2020-02-14) low -94.2ºC (-137.5ºF) high -8.9ºC (16.0ºF)\n",
      "winds from the W at 6.1 m/s (13.6 mph) gusting to 21.6 m/s (48.4 mph)\n",
      "pressure at 6.30 hPa</span>, <span class=\"css-901oao css-16my406 r-1qd0xha r-ad9z0x r-1n0xq6e r-bcqeeo r-d3hbe1 r-1wgg2b2 r-axxi2z r-qvutc0\"><span class=\"css-901oao css-16my406 r-1qd0xha r-ad9z0x r-bcqeeo r-qvutc0\">6</span></span>, <span class=\"css-901oao css-16my406 r-1qd0xha r-ad9z0x r-bcqeeo r-qvutc0\">6</span>, <span class=\"css-901oao css-16my406 r-1qd0xha r-ad9z0x r-1n0xq6e r-bcqeeo r-d3hbe1 r-1wgg2b2 r-axxi2z r-qvutc0\"><span class=\"css-901oao css-16my406 r-1qd0xha r-ad9z0x r-bcqeeo r-qvutc0\">14</span></span>, <span class=\"css-901oao css-16my406 r-1qd0xha r-ad9z0x r-bcqeeo r-qvutc0\">14</span>]\n"
     ]
    },
    {
     "data": {
      "text/plain": [
       "[<li class=\"slide\"><div class=\"image_and_description_container\"><a href=\"/news/8607/nasas-mars-2020-rover-goes-coast-to-coast-to-prep-for-launch/\" target=\"_self\"><div class=\"rollover_description\"><div class=\"rollover_description_inner\">The agency's first step in returning rocks from Mars just arrived at Kennedy Space Center. The Mars 2020 team now begins readying for a launch to the Red Planet this July.</div><div class=\"overlay_arrow\"><img alt=\"More\" src=\"/assets/overlay-arrow.png\"/></div></div><div class=\"list_image\"><img alt=\"Seeing the Mars 2020 Rover Off\" src=\"/system/news_items/list_view_images/8607_PIA23591-320x240.jpg\"/></div><div class=\"bottom_gradient\"><div><h3>NASA's Mars 2020 Rover Goes Coast-to-Coast to Prep for Launch</h3></div></div></a><div class=\"list_text\"><div class=\"list_date\">February 12, 2020</div><div class=\"content_title\"><a href=\"/news/8607/nasas-mars-2020-rover-goes-coast-to-coast-to-prep-for-launch/\" target=\"_self\">NASA's Mars 2020 Rover Goes Coast-to-Coast to Prep for Launch</a></div><div class=\"article_teaser_body\">The agency's first step in returning rocks from Mars just arrived at Kennedy Space Center. The Mars 2020 team now begins readying for a launch to the Red Planet this July.</div></div></div></li>,\n",
       " <li class=\"slide\"><div class=\"image_and_description_container\"><a href=\"/news/8606/nasa-prepares-for-moon-and-mars-with-new-addition-to-its-deep-space-network/\" target=\"_self\"><div class=\"rollover_description\"><div class=\"rollover_description_inner\">Robotic spacecraft will be able to communicate with the dish using radio waves and lasers.</div><div class=\"overlay_arrow\"><img alt=\"More\" src=\"/assets/overlay-arrow.png\"/></div></div><div class=\"list_image\"><img alt=\"\" src=\"/system/news_items/list_view_images/8606_list_image.jpg\"/></div><div class=\"bottom_gradient\"><div><h3>NASA Prepares for Moon and Mars With New Addition to Its Deep Space Network</h3></div></div></a><div class=\"list_text\"><div class=\"list_date\">February 11, 2020</div><div class=\"content_title\"><a href=\"/news/8606/nasa-prepares-for-moon-and-mars-with-new-addition-to-its-deep-space-network/\" target=\"_self\">NASA Prepares for Moon and Mars With New Addition to Its Deep Space Network</a></div><div class=\"article_teaser_body\">Robotic spacecraft will be able to communicate with the dish using radio waves and lasers.</div></div></div></li>,\n",
       " <li class=\"slide\"><div class=\"image_and_description_container\"><a href=\"/news/8603/nasa-administrator-statement-on-moon-to-mars-initiative-fy-2021-budget/\" target=\"_self\"><div class=\"rollover_description\"><div class=\"rollover_description_inner\">Jim Bridenstine addresses NASA's ambitious plans for the coming years, including Mars Sample Return.</div><div class=\"overlay_arrow\"><img alt=\"More\" src=\"/assets/overlay-arrow.png\"/></div></div><div class=\"list_image\"><img alt=\"NASA Administrator Jim Bridenstine delivers the State of NASA address\" src=\"/system/news_items/list_view_images/8603_list_image.jpg\"/></div><div class=\"bottom_gradient\"><div><h3>NASA Administrator Statement on Moon to Mars Initiative, FY 2021 Budget</h3></div></div></a><div class=\"list_text\"><div class=\"list_date\">February 10, 2020</div><div class=\"content_title\"><a href=\"/news/8603/nasa-administrator-statement-on-moon-to-mars-initiative-fy-2021-budget/\" target=\"_self\">NASA Administrator Statement on Moon to Mars Initiative, FY 2021 Budget</a></div><div class=\"article_teaser_body\">Jim Bridenstine addresses NASA's ambitious plans for the coming years, including Mars Sample Return.</div></div></div></li>,\n",
       " <li class=\"slide\"><div class=\"image_and_description_container\"><a href=\"/news/8601/all-about-the-laser-and-microphone-atop-mars-2020-nasas-next-rover/\" target=\"_self\"><div class=\"rollover_description\"><div class=\"rollover_description_inner\">SuperCam is a rock-vaporizing instrument that will help scientists hunt for Mars fossils.</div><div class=\"overlay_arrow\"><img alt=\"More\" src=\"/assets/overlay-arrow.png\"/></div></div><div class=\"list_image\"><img alt=\"Mars 2020's mast, or &quot;head,&quot; includes a laser instrument called SuperCam that can vaporize rock material and study the resulting plasma. \" src=\"/system/news_items/list_view_images/8601_PIA23316-320x240.jpg\"/></div><div class=\"bottom_gradient\"><div><h3>All About the Laser (and Microphone) Atop Mars 2020, NASA's Next Rover</h3></div></div></a><div class=\"list_text\"><div class=\"list_date\">February  7, 2020</div><div class=\"content_title\"><a href=\"/news/8601/all-about-the-laser-and-microphone-atop-mars-2020-nasas-next-rover/\" target=\"_self\">All About the Laser (and Microphone) Atop Mars 2020, NASA's Next Rover</a></div><div class=\"article_teaser_body\">SuperCam is a rock-vaporizing instrument that will help scientists hunt for Mars fossils.</div></div></div></li>,\n",
       " <li class=\"slide\"><div class=\"image_and_description_container\"><a href=\"/news/8596/nasas-maven-explores-mars-to-understand-radio-interference-at-earth/\" target=\"_self\"><div class=\"rollover_description\"><div class=\"rollover_description_inner\">NASA’s MAVEN spacecraft has discovered “layers” and “rifts” in the electrically charged part of the upper atmosphere of Mars.</div><div class=\"overlay_arrow\"><img alt=\"More\" src=\"/assets/overlay-arrow.png\"/></div></div><div class=\"list_image\"><img alt=\"\" src=\"/system/news_items/list_view_images/8596_mavenatmars-320x240.jpg\"/></div><div class=\"bottom_gradient\"><div><h3>NASA's MAVEN Explores Mars to Understand Radio Interference at Earth</h3></div></div></a><div class=\"list_text\"><div class=\"list_date\">February  3, 2020</div><div class=\"content_title\"><a href=\"/news/8596/nasas-maven-explores-mars-to-understand-radio-interference-at-earth/\" target=\"_self\">NASA's MAVEN Explores Mars to Understand Radio Interference at Earth</a></div><div class=\"article_teaser_body\">NASA’s MAVEN spacecraft has discovered “layers” and “rifts” in the electrically charged part of the upper atmosphere of Mars.</div></div></div></li>,\n",
       " <li class=\"slide\"><div class=\"image_and_description_container\"><a href=\"/news/8588/nine-finalists-chosen-in-nasas-mars-2020-rover-naming-contest/\" target=\"_self\"><div class=\"rollover_description\"><div class=\"rollover_description_inner\">Nine finalists have been chosen in the essay contest for K-12 students across U.S. to name NASA's next Mars rover. Now you can help by voting for your favorite. </div><div class=\"overlay_arrow\"><img alt=\"More\" src=\"/assets/overlay-arrow.png\"/></div></div><div class=\"list_image\"><img alt=\"This illustration depicts NASA's next Mars rover, which launches in 2020.\" src=\"/system/news_items/list_view_images/8588_name20190625-320x240.jpg\"/></div><div class=\"bottom_gradient\"><div><h3>Nine Finalists Chosen in NASA's Mars 2020 Rover Naming Contest</h3></div></div></a><div class=\"list_text\"><div class=\"list_date\">January 21, 2020</div><div class=\"content_title\"><a href=\"/news/8588/nine-finalists-chosen-in-nasas-mars-2020-rover-naming-contest/\" target=\"_self\">Nine Finalists Chosen in NASA's Mars 2020 Rover Naming Contest</a></div><div class=\"article_teaser_body\">Nine finalists have been chosen in the essay contest for K-12 students across U.S. to name NASA's next Mars rover. Now you can help by voting for your favorite. </div></div></div></li>,\n",
       " <li class=\"slide\"><div class=\"image_and_description_container\"><a href=\"/news/8585/nasas-mars-2020-rover-closer-to-getting-its-name/\" target=\"_self\"><div class=\"rollover_description\"><div class=\"rollover_description_inner\">155 students from across the U.S. have been chosen as semifinalists in NASA's essay contest to name the Mars 2020 rover, and see it launch from Cape Canaveral this July.</div><div class=\"overlay_arrow\"><img alt=\"More\" src=\"/assets/overlay-arrow.png\"/></div></div><div class=\"list_image\"><img alt=\"This illustration depicts NASA's next Mars rover, which launches in 2020.\" src=\"/system/news_items/list_view_images/8585_name20190625-320x240.jpg\"/></div><div class=\"bottom_gradient\"><div><h3>NASA's Mars 2020 Rover Closer to Getting Its Name</h3></div></div></a><div class=\"list_text\"><div class=\"list_date\">January 13, 2020</div><div class=\"content_title\"><a href=\"/news/8585/nasas-mars-2020-rover-closer-to-getting-its-name/\" target=\"_self\">NASA's Mars 2020 Rover Closer to Getting Its Name</a></div><div class=\"article_teaser_body\">155 students from across the U.S. have been chosen as semifinalists in NASA's essay contest to name the Mars 2020 rover, and see it launch from Cape Canaveral this July.</div></div></div></li>,\n",
       " <li class=\"slide\"><div class=\"image_and_description_container\"><a href=\"/news/8578/media-get-a-close-up-of-nasas-mars-2020-rover/\" target=\"_self\"><div class=\"rollover_description\"><div class=\"rollover_description_inner\">The clean room at NASA's Jet Propulsion Laboratory was open to the media to see NASA's next Mars explorer before it leaves for Florida in preparation for a summertime launch.</div><div class=\"overlay_arrow\"><img alt=\"More\" src=\"/assets/overlay-arrow.png\"/></div></div><div class=\"list_image\"><img alt=\"Members of the media interview the builders of the Mars 2020 mission inside JPL's clean room.\" src=\"/system/news_items/list_view_images/8578_24741_PIA23586-SAFfloor-MAIN-16_320x240px.jpg\"/></div><div class=\"bottom_gradient\"><div><h3>Media Get a Close-Up of NASA's Mars 2020 Rover</h3></div></div></a><div class=\"list_text\"><div class=\"list_date\">December 27, 2019</div><div class=\"content_title\"><a href=\"/news/8578/media-get-a-close-up-of-nasas-mars-2020-rover/\" target=\"_self\">Media Get a Close-Up of NASA's Mars 2020 Rover</a></div><div class=\"article_teaser_body\">The clean room at NASA's Jet Propulsion Laboratory was open to the media to see NASA's next Mars explorer before it leaves for Florida in preparation for a summertime launch.</div></div></div></li>,\n",
       " <li class=\"slide\"><div class=\"image_and_description_container\"><a href=\"/news/8575/space-history-is-made-in-this-nasa-robot-factory/\" target=\"_self\"><div class=\"rollover_description\"><div class=\"rollover_description_inner\">From rockets to rovers, JPL's Spacecraft Assembly Facility has been at the center of robotic spaceflight. Here's a closer look at what makes it so special.</div><div class=\"overlay_arrow\"><img alt=\"More\" src=\"/assets/overlay-arrow.png\"/></div></div><div class=\"list_image\"><img alt=\"The Mars 2020 rover in the High Bay 1 clean room at JPL.\" src=\"/system/news_items/list_view_images/8575_PIA23519-SAF-unannot-320x240.jpg\"/></div><div class=\"bottom_gradient\"><div><h3>Space History Is Made in This NASA Robot Factory</h3></div></div></a><div class=\"list_text\"><div class=\"list_date\">December 23, 2019</div><div class=\"content_title\"><a href=\"/news/8575/space-history-is-made-in-this-nasa-robot-factory/\" target=\"_self\">Space History Is Made in This NASA Robot Factory</a></div><div class=\"article_teaser_body\">From rockets to rovers, JPL's Spacecraft Assembly Facility has been at the center of robotic spaceflight. Here's a closer look at what makes it so special.</div></div></div></li>,\n",
       " <li class=\"slide\"><div class=\"image_and_description_container\"><a href=\"/news/8573/nasas-mars-2020-rover-completes-its-first-drive/\" target=\"_self\"><div class=\"rollover_description\"><div class=\"rollover_description_inner\">In a 10-plus-hour marathon, the rover steered, turned and drove in 3-foot (1-meter) increments over small ramps.</div><div class=\"overlay_arrow\"><img alt=\"More\" src=\"/assets/overlay-arrow.png\"/></div></div><div class=\"list_image\"><img alt=\"In a clean room at NASA's Jet Propulsion Laboratory in Pasadena, California, engineers observed the first driving test for NASA's Mars 2020 rover on Dec. 17, 2019. \" src=\"/system/news_items/list_view_images/8573_PIA23499-226.jpg\"/></div><div class=\"bottom_gradient\"><div><h3>NASA's Mars 2020 Rover Completes Its First Drive</h3></div></div></a><div class=\"list_text\"><div class=\"list_date\">December 18, 2019</div><div class=\"content_title\"><a href=\"/news/8573/nasas-mars-2020-rover-completes-its-first-drive/\" target=\"_self\">NASA's Mars 2020 Rover Completes Its First Drive</a></div><div class=\"article_teaser_body\">In a 10-plus-hour marathon, the rover steered, turned and drove in 3-foot (1-meter) increments over small ramps.</div></div></div></li>,\n",
       " <li class=\"slide\"><div class=\"image_and_description_container\"><a href=\"/news/8595/nasas-maven-maps-winds-in-the-martian-upper-atmosphere-that-mirror-the-terrain-below-and-gives-clues/\" target=\"_self\"><div class=\"rollover_description\"><div class=\"rollover_description_inner\">Researchers have created the first map of wind circulation in the upper atmosphere of a planet besides Earth, using data from NASA’s MAVEN spacecraft that were collected during the last two years.</div><div class=\"overlay_arrow\"><img alt=\"More\" src=\"/assets/overlay-arrow.png\"/></div></div><div class=\"list_image\"><img alt=\"\" src=\"/system/news_items/list_view_images/8595_mars_winds_preview_4-320x240.jpg\"/></div><div class=\"bottom_gradient\"><div><h3>NASA's MAVEN Maps Winds in the Martian Upper Atmosphere that Mirror the Terrain Below and Gives Clues to Martian Climate</h3></div></div></a><div class=\"list_text\"><div class=\"list_date\">December 12, 2019</div><div class=\"content_title\"><a href=\"/news/8595/nasas-maven-maps-winds-in-the-martian-upper-atmosphere-that-mirror-the-terrain-below-and-gives-clues/\" target=\"_self\">NASA's MAVEN Maps Winds in the Martian Upper Atmosphere that Mirror the Terrain Below and Gives Clues to Martian Climate</a></div><div class=\"article_teaser_body\">Researchers have created the first map of wind circulation in the upper atmosphere of a planet besides Earth, using data from NASA’s MAVEN spacecraft that were collected during the last two years.</div></div></div></li>,\n",
       " <li class=\"slide\"><div class=\"image_and_description_container\"><a href=\"/news/8594/newfound-martian-aurora-actually-the-most-common-sheds-light-on-mars-changing-climate/\" target=\"_self\"><div class=\"rollover_description\"><div class=\"rollover_description_inner\">A type of Martian aurora first identified by NASA’s MAVEN spacecraft in 2016 is actually the most common form of aurora occurring on the Red Planet, according to new results from the mission.</div><div class=\"overlay_arrow\"><img alt=\"More\" src=\"/assets/overlay-arrow.png\"/></div></div><div class=\"list_image\"><img alt=\"\" src=\"/system/news_items/list_view_images/8594_apo_proton_aurora_no_text-320x240.jpg\"/></div><div class=\"bottom_gradient\"><div><h3>Newfound Martian Aurora Actually the Most Common; Sheds Light on Mars' Changing Climate</h3></div></div></a><div class=\"list_text\"><div class=\"list_date\">December 12, 2019</div><div class=\"content_title\"><a href=\"/news/8594/newfound-martian-aurora-actually-the-most-common-sheds-light-on-mars-changing-climate/\" target=\"_self\">Newfound Martian Aurora Actually the Most Common; Sheds Light on Mars' Changing Climate</a></div><div class=\"article_teaser_body\">A type of Martian aurora first identified by NASA’s MAVEN spacecraft in 2016 is actually the most common form of aurora occurring on the Red Planet, according to new results from the mission.</div></div></div></li>,\n",
       " <li class=\"slide\"><div class=\"image_and_description_container\"><a href=\"/news/8568/nasas-treasure-map-for-water-ice-on-mars/\" target=\"_self\"><div class=\"rollover_description\"><div class=\"rollover_description_inner\">A new study identifies frozen water just below the Martian surface, where astronauts could easily dig it up.</div><div class=\"overlay_arrow\"><img alt=\"More\" src=\"/assets/overlay-arrow.png\"/></div></div><div class=\"list_image\"><img alt=\"\" src=\"/system/news_items/list_view_images/8568_PIA23515_annotated-globe-320x240.gif\"/></div><div class=\"bottom_gradient\"><div><h3>NASA's Treasure Map for Water Ice on Mars</h3></div></div></a><div class=\"list_text\"><div class=\"list_date\">December 10, 2019</div><div class=\"content_title\"><a href=\"/news/8568/nasas-treasure-map-for-water-ice-on-mars/\" target=\"_self\">NASA's Treasure Map for Water Ice on Mars</a></div><div class=\"article_teaser_body\">A new study identifies frozen water just below the Martian surface, where astronauts could easily dig it up.</div></div></div></li>,\n",
       " <li class=\"slide\"><div class=\"image_and_description_container\"><a href=\"/news/8567/two-rovers-to-roll-on-mars-again-curiosity-and-mars-2020/\" target=\"_self\"><div class=\"rollover_description\"><div class=\"rollover_description_inner\">They look like twins. But under the hood, the rover currently exploring the Red Planet and the one launching there this summer have distinct science tools and roles to play.</div><div class=\"overlay_arrow\"><img alt=\"More\" src=\"/assets/overlay-arrow.png\"/></div></div><div class=\"list_image\"><img alt=\"Illustrations of NASA's Curiosity and Mars 2020 rovers. \" src=\"/system/news_items/list_view_images/8567_PIA23517-320x240.jpg\"/></div><div class=\"bottom_gradient\"><div><h3>Two Rovers to Roll on Mars Again: Curiosity and Mars 2020</h3></div></div></a><div class=\"list_text\"><div class=\"list_date\">December 10, 2019</div><div class=\"content_title\"><a href=\"/news/8567/two-rovers-to-roll-on-mars-again-curiosity-and-mars-2020/\" target=\"_self\">Two Rovers to Roll on Mars Again: Curiosity and Mars 2020</a></div><div class=\"article_teaser_body\">They look like twins. But under the hood, the rover currently exploring the Red Planet and the one launching there this summer have distinct science tools and roles to play.</div></div></div></li>,\n",
       " <li class=\"slide\"><div class=\"image_and_description_container\"><a href=\"/news/8561/nasas-briefcase-size-marco-satellite-picks-up-honors/\" target=\"_self\"><div class=\"rollover_description\"><div class=\"rollover_description_inner\">The twin spacecraft, the first of their kind to fly into deep space, earn a Laureate from Aviation Week &amp; Space Technology.</div><div class=\"overlay_arrow\"><img alt=\"More\" src=\"/assets/overlay-arrow.png\"/></div></div><div class=\"list_image\"><img alt=\"Engineer Joel Steinkraus tests the solar arrays on one of the Mars Cube One \" src=\"/system/news_items/list_view_images/8561_MarCO-32x24.jpg\"/></div><div class=\"bottom_gradient\"><div><h3>NASA's Briefcase-Size MarCO Satellite Picks Up Honors</h3></div></div></a><div class=\"list_text\"><div class=\"list_date\">November 27, 2019</div><div class=\"content_title\"><a href=\"/news/8561/nasas-briefcase-size-marco-satellite-picks-up-honors/\" target=\"_self\">NASA's Briefcase-Size MarCO Satellite Picks Up Honors</a></div><div class=\"article_teaser_body\">The twin spacecraft, the first of their kind to fly into deep space, earn a Laureate from Aviation Week &amp; Space Technology.</div></div></div></li>,\n",
       " <li class=\"slide\"><div class=\"image_and_description_container\"><a href=\"/news/8558/global-storms-on-mars-launch-dust-towers-into-the-sky/\" target=\"_self\"><div class=\"rollover_description\"><div class=\"rollover_description_inner\">A Mars Dust Tower Stands Out Dust storms are common on Mars. But every decade or so, something unpredictable happens: a series of runaway storms break out, covering the entire planet in a dusty haze.</div><div class=\"overlay_arrow\"><img alt=\"More\" src=\"/assets/overlay-arrow.png\"/></div></div><div class=\"list_image\"><img alt=\"Dust storms on Mars.\" src=\"/system/news_items/list_view_images/8558_PIA23513-32x24.jpg\"/></div><div class=\"bottom_gradient\"><div><h3>Global Storms on Mars Launch Dust Towers Into the Sky</h3></div></div></a><div class=\"list_text\"><div class=\"list_date\">November 26, 2019</div><div class=\"content_title\"><a href=\"/news/8558/global-storms-on-mars-launch-dust-towers-into-the-sky/\" target=\"_self\">Global Storms on Mars Launch Dust Towers Into the Sky</a></div><div class=\"article_teaser_body\">A Mars Dust Tower Stands Out Dust storms are common on Mars. But every decade or so, something unpredictable happens: a series of runaway storms break out, covering the entire planet in a dusty haze.</div></div></div></li>,\n",
       " <li class=\"slide\"><div class=\"image_and_description_container\"><a href=\"/news/8556/nasa-updates-mars-2020-mission-environmental-review/\" target=\"_self\"><div class=\"rollover_description\"><div class=\"rollover_description_inner\">NASA and the Department of Energy have completed a more detailed risk analysis for the Mars 2020 rover launch from Florida.</div><div class=\"overlay_arrow\"><img alt=\"More\" src=\"/assets/overlay-arrow.png\"/></div></div><div class=\"list_image\"><img alt=\"The electricity needed to operate NASA's Mars 2020 rover (pictured here) is provided by a power system called a Multi-Mission Radioisotope Thermoelectric Generator, or MMRTG.\" src=\"/system/news_items/list_view_images/8556_PIA23305_320x240px.jpg\"/></div><div class=\"bottom_gradient\"><div><h3>NASA Updates Mars 2020 Mission Environmental Review</h3></div></div></a><div class=\"list_text\"><div class=\"list_date\">November 21, 2019</div><div class=\"content_title\"><a href=\"/news/8556/nasa-updates-mars-2020-mission-environmental-review/\" target=\"_self\">NASA Updates Mars 2020 Mission Environmental Review</a></div><div class=\"article_teaser_body\">NASA and the Department of Energy have completed a more detailed risk analysis for the Mars 2020 rover launch from Florida.</div></div></div></li>,\n",
       " <li class=\"slide\"><div class=\"image_and_description_container\"><a href=\"/news/8554/two-of-a-space-kind-apollo-12-and-mars-2020/\" target=\"_self\"><div class=\"rollover_description\"><div class=\"rollover_description_inner\">Apollo 12 and the upcoming Mars 2020 mission may be separated by half a century, but they share several goals unique in the annals of space exploration.</div><div class=\"overlay_arrow\"><img alt=\"More\" src=\"/assets/overlay-arrow.png\"/></div></div><div class=\"list_image\"><img alt=\"(Left) Apollo 12 astronaut Charles “Pete” Conrad Jr. stands beside NASA's Surveyor 3 spacecraft; the lunar module Intrepid can be seen in the distance. Apollo 12 landed on the Moon's Ocean of Storms on Nov. 20, 1969. (Right) Mars 2020 rover, seen here in an artist's concept, will make history's most accurate landing on a planetary body when it lands at Mars' Jezero Crater on Feb. 18, 2021.\" src=\"/system/news_items/list_view_images/8554_PIA23553-320x240.jpg\"/></div><div class=\"bottom_gradient\"><div><h3>Two of a Space Kind: Apollo 12 and Mars 2020</h3></div></div></a><div class=\"list_text\"><div class=\"list_date\">November 20, 2019</div><div class=\"content_title\"><a href=\"/news/8554/two-of-a-space-kind-apollo-12-and-mars-2020/\" target=\"_self\">Two of a Space Kind: Apollo 12 and Mars 2020</a></div><div class=\"article_teaser_body\">Apollo 12 and the upcoming Mars 2020 mission may be separated by half a century, but they share several goals unique in the annals of space exploration.</div></div></div></li>,\n",
       " <li class=\"slide\"><div class=\"image_and_description_container\"><a href=\"/news/8551/mars-scientists-investigate-ancient-life-in-australia/\" target=\"_self\"><div class=\"rollover_description\"><div class=\"rollover_description_inner\">Teams with NASA's Mars 2020 and ESA's ExoMars practiced hunting for fossilized microbial life in the Australian Outback in preparation for their Red Planet missions. </div><div class=\"overlay_arrow\"><img alt=\"More\" src=\"/assets/overlay-arrow.png\"/></div></div><div class=\"list_image\"><img alt=\"NASA and ESA scientists study stromatolites, the oldest confirmed fossilized lifeforms on Earth, in the Pilbara region of North West Australia.\" src=\"/system/news_items/list_view_images/8551_PIA23551-320x240.jpg\"/></div><div class=\"bottom_gradient\"><div><h3>Mars Scientists Investigate Ancient Life in Australia</h3></div></div></a><div class=\"list_text\"><div class=\"list_date\">November 15, 2019</div><div class=\"content_title\"><a href=\"/news/8551/mars-scientists-investigate-ancient-life-in-australia/\" target=\"_self\">Mars Scientists Investigate Ancient Life in Australia</a></div><div class=\"article_teaser_body\">Teams with NASA's Mars 2020 and ESA's ExoMars practiced hunting for fossilized microbial life in the Australian Outback in preparation for their Red Planet missions. </div></div></div></li>,\n",
       " <li class=\"slide\"><div class=\"image_and_description_container\"><a href=\"/news/8549/nasas-mars-2020-will-hunt-for-microscopic-fossils/\" target=\"_self\"><div class=\"rollover_description\"><div class=\"rollover_description_inner\">A new paper identifies a ring of minerals at the rover's landing site that are ideal for fossilizing microbial life.</div><div class=\"overlay_arrow\"><img alt=\"More\" src=\"/assets/overlay-arrow.png\"/></div></div><div class=\"list_image\"><img alt=\"Lighter colors represent higher elevation in this image of Jezero Crater on Mars, the landing site for NASA's Mars 2020 mission.\" src=\"/system/news_items/list_view_images/8549_PIA23511-320x240.jpg\"/></div><div class=\"bottom_gradient\"><div><h3>NASA's Mars 2020 Will Hunt for Microscopic Fossils</h3></div></div></a><div class=\"list_text\"><div class=\"list_date\">November 12, 2019</div><div class=\"content_title\"><a href=\"/news/8549/nasas-mars-2020-will-hunt-for-microscopic-fossils/\" target=\"_self\">NASA's Mars 2020 Will Hunt for Microscopic Fossils</a></div><div class=\"article_teaser_body\">A new paper identifies a ring of minerals at the rover's landing site that are ideal for fossilizing microbial life.</div></div></div></li>,\n",
       " <li class=\"slide\"><div class=\"image_and_description_container\"><a href=\"/news/8548/with-mars-methane-mystery-unsolved-curiosity-serves-scientists-a-new-one-oxygen/\" target=\"_self\"><div class=\"rollover_description\"><div class=\"rollover_description_inner\">For the first time in the history of space exploration, scientists have measured the seasonal changes in the gases that fill the air directly above the surface of Gale Crater on Mars. </div><div class=\"overlay_arrow\"><img alt=\"More\" src=\"/assets/overlay-arrow.png\"/></div></div><div class=\"list_image\"><img alt=\"NASA's Curiosity Mars rover imaged these drifting clouds on May 17, 2019, the 2,410th Martian day, or sol, of the mission, using its black-and-white Navigation Cameras (Navcams).\" src=\"/system/news_items/list_view_images/8548_mars_seasonal_oxygen_gale_crater-320x240.jpg\"/></div><div class=\"bottom_gradient\"><div><h3>With Mars Methane Mystery Unsolved, Curiosity Serves Scientists a New One: Oxygen</h3></div></div></a><div class=\"list_text\"><div class=\"list_date\">November 12, 2019</div><div class=\"content_title\"><a href=\"/news/8548/with-mars-methane-mystery-unsolved-curiosity-serves-scientists-a-new-one-oxygen/\" target=\"_self\">With Mars Methane Mystery Unsolved, Curiosity Serves Scientists a New One: Oxygen</a></div><div class=\"article_teaser_body\">For the first time in the history of space exploration, scientists have measured the seasonal changes in the gases that fill the air directly above the surface of Gale Crater on Mars. </div></div></div></li>,\n",
       " <li class=\"slide\"><div class=\"image_and_description_container\"><a href=\"/news/8545/nasas-mars-2020-heads-into-the-test-chamber/\" target=\"_self\"><div class=\"rollover_description\"><div class=\"rollover_description_inner\">In this time-lapse video taken at JPL, engineers move the Mars 2020 rover into a large vacuum chamber for testing in Mars-like environmental conditions.</div><div class=\"overlay_arrow\"><img alt=\"More\" src=\"/assets/overlay-arrow.png\"/></div></div><div class=\"list_image\"><img alt=\"In this time-lapse video taken at JPL, engineers move the Mars 2020 rover into a large vacuum chamber for testing in Mars-like environmental conditions.\" src=\"/system/news_items/list_view_images/8545_24679_PIA23470-1041_320x240px.jpg\"/></div><div class=\"bottom_gradient\"><div><h3>NASA's Mars 2020 Heads Into the Test Chamber</h3></div></div></a><div class=\"list_text\"><div class=\"list_date\">November  7, 2019</div><div class=\"content_title\"><a href=\"/news/8545/nasas-mars-2020-heads-into-the-test-chamber/\" target=\"_self\">NASA's Mars 2020 Heads Into the Test Chamber</a></div><div class=\"article_teaser_body\">In this time-lapse video taken at JPL, engineers move the Mars 2020 rover into a large vacuum chamber for testing in Mars-like environmental conditions.</div></div></div></li>,\n",
       " <li class=\"slide\"><div class=\"image_and_description_container\"><a href=\"/news/8544/screening-soon-the-pathfinders-trains-lens-on-mars/\" target=\"_self\"><div class=\"rollover_description\"><div class=\"rollover_description_inner\">With the Mars 2020 mission ramping up, the documentary — the first of four about past JPL missions to the Red Planet to be shown at Caltech — tells a gripping backstory.</div><div class=\"overlay_arrow\"><img alt=\"More\" src=\"/assets/overlay-arrow.png\"/></div></div><div class=\"list_image\"><img alt=\"An artist's rendering of Mars Pathfinder, which consisted of a lander and the first-ever robotic rover on the surface of the Red Planet. The documentary &quot;The Pathfinders&quot; tells the story behind the mission. \" src=\"/system/news_items/list_view_images/8544_Pathfinder-Background-320x240.jpg\"/></div><div class=\"bottom_gradient\"><div><h3>Screening Soon: 'The Pathfinders' Trains Lens on Mars</h3></div></div></a><div class=\"list_text\"><div class=\"list_date\">November  7, 2019</div><div class=\"content_title\"><a href=\"/news/8544/screening-soon-the-pathfinders-trains-lens-on-mars/\" target=\"_self\">Screening Soon: 'The Pathfinders' Trains Lens on Mars</a></div><div class=\"article_teaser_body\">With the Mars 2020 mission ramping up, the documentary — the first of four about past JPL missions to the Red Planet to be shown at Caltech — tells a gripping backstory.</div></div></div></li>,\n",
       " <li class=\"slide\"><div class=\"image_and_description_container\"><a href=\"/news/8529/insights-mole-team-peers-into-the-pit/\" target=\"_self\"><div class=\"rollover_description\"><div class=\"rollover_description_inner\">Efforts to save the heat probe continue.</div><div class=\"overlay_arrow\"><img alt=\"More\" src=\"/assets/overlay-arrow.png\"/></div></div><div class=\"list_image\"><img alt=\"The shadow of NASA InSight's robotic arm moves over its heat probe, or &quot;mole,&quot; on Nov. 3, 2019, the 333rd Martian day, or sol, of the mission.\" src=\"/system/news_items/list_view_images/8529_PIA23512-226.gif\"/></div><div class=\"bottom_gradient\"><div><h3>InSight's 'Mole' Team Peers into the Pit</h3></div></div></a><div class=\"list_text\"><div class=\"list_date\">November  6, 2019</div><div class=\"content_title\"><a href=\"/news/8529/insights-mole-team-peers-into-the-pit/\" target=\"_self\">InSight's 'Mole' Team Peers into the Pit</a></div><div class=\"article_teaser_body\">Efforts to save the heat probe continue.</div></div></div></li>,\n",
       " <li class=\"slide\"><div class=\"image_and_description_container\"><a href=\"/news/8444/common-questions-about-insights-mole/\" target=\"_self\"><div class=\"rollover_description\"><div class=\"rollover_description_inner\">There's a new plan to get InSight's \"mole\" moving again. The following Q&amp;As with two members of the team answer some of the most common questions about the burrowing device, part of a science instrument called the Heat Flow and Physical Properties Package (HP3).</div><div class=\"overlay_arrow\"><img alt=\"More\" src=\"/assets/overlay-arrow.png\"/></div></div><div class=\"list_image\"><img alt=\"The support structure of the Heat Flow and Physical Properties Package (HP3) instrument moved slightly during hammering, as indicated by the circular &quot;footprints&quot; around the instrument's footpads. \" src=\"/system/news_items/list_view_images/8444_PIA23271-320x240.jpg\"/></div><div class=\"bottom_gradient\"><div><h3>Common Questions about InSight's 'Mole'</h3></div></div></a><div class=\"list_text\"><div class=\"list_date\">November  6, 2019</div><div class=\"content_title\"><a href=\"/news/8444/common-questions-about-insights-mole/\" target=\"_self\">Common Questions about InSight's 'Mole'</a></div><div class=\"article_teaser_body\">There's a new plan to get InSight's \"mole\" moving again. The following Q&amp;As with two members of the team answer some of the most common questions about the burrowing device, part of a science instrument called the Heat Flow and Physical Properties Package (HP3).</div></div></div></li>,\n",
       " <li class=\"slide\"><div class=\"image_and_description_container\"><a href=\"/news/8537/mars-2020-stands-on-its-own-six-wheels/\" target=\"_self\"><div class=\"rollover_description\"><div class=\"rollover_description_inner\">In time-lapse video, taken at JPL, captures the first time NASA's Mars 2020 rover carries its full weight on its legs and wheels.</div><div class=\"overlay_arrow\"><img alt=\"More\" src=\"/assets/overlay-arrow.png\"/></div></div><div class=\"list_image\"><img alt=\"In time-lapse video, taken at JPL, captures the first time NASA's Mars 2020 rover carries its full weight on its legs and wheels.\" src=\"/system/news_items/list_view_images/8537_PIA23468-16_320x240px.jpg\"/></div><div class=\"bottom_gradient\"><div><h3>Mars 2020 Stands on Its Own Six Wheels</h3></div></div></a><div class=\"list_text\"><div class=\"list_date\">October 24, 2019</div><div class=\"content_title\"><a href=\"/news/8537/mars-2020-stands-on-its-own-six-wheels/\" target=\"_self\">Mars 2020 Stands on Its Own Six Wheels</a></div><div class=\"article_teaser_body\">In time-lapse video, taken at JPL, captures the first time NASA's Mars 2020 rover carries its full weight on its legs and wheels.</div></div></div></li>,\n",
       " <li class=\"slide\"><div class=\"image_and_description_container\"><a href=\"/news/8536/new-selfie-shows-curiosity-the-mars-chemist/\" target=\"_self\"><div class=\"rollover_description\"><div class=\"rollover_description_inner\">The NASA rover performed a special chemistry experiment at the location captured in its newest self-portrait.</div><div class=\"overlay_arrow\"><img alt=\"More\" src=\"/assets/overlay-arrow.png\"/></div></div><div class=\"list_image\"><img alt=\"NASA's Curiosity rover took this selfie on Oct. 11, 2019, the 2,553rd Martian day, or sol, of its mission.\" src=\"/system/news_items/list_view_images/8536_Mars_chemist_320x240px.jpg\"/></div><div class=\"bottom_gradient\"><div><h3>New Selfie Shows Curiosity, the Mars Chemist</h3></div></div></a><div class=\"list_text\"><div class=\"list_date\">October 24, 2019</div><div class=\"content_title\"><a href=\"/news/8536/new-selfie-shows-curiosity-the-mars-chemist/\" target=\"_self\">New Selfie Shows Curiosity, the Mars Chemist</a></div><div class=\"article_teaser_body\">The NASA rover performed a special chemistry experiment at the location captured in its newest self-portrait.</div></div></div></li>,\n",
       " <li class=\"slide\"><div class=\"image_and_description_container\"><a href=\"/news/8534/naming-a-nasa-mars-rover-can-change-your-life/\" target=\"_self\"><div class=\"rollover_description\"><div class=\"rollover_description_inner\">Want to name the robotic scientist NASA is sending to Mars in 2020? The student who named Curiosity — the rover currently exploring Mars — will tell you this is an opportunity worth taking.</div><div class=\"overlay_arrow\"><img alt=\"More\" src=\"/assets/overlay-arrow.png\"/></div></div><div class=\"list_image\"><img alt=\"Image of Clara Ma, then and now.\" src=\"/system/news_items/list_view_images/8534_20191022_ClaraMa_compare-320x240.jpg\"/></div><div class=\"bottom_gradient\"><div><h3>Naming a NASA Mars Rover Can Change Your Life</h3></div></div></a><div class=\"list_text\"><div class=\"list_date\">October 22, 2019</div><div class=\"content_title\"><a href=\"/news/8534/naming-a-nasa-mars-rover-can-change-your-life/\" target=\"_self\">Naming a NASA Mars Rover Can Change Your Life</a></div><div class=\"article_teaser_body\">Want to name the robotic scientist NASA is sending to Mars in 2020? The student who named Curiosity — the rover currently exploring Mars — will tell you this is an opportunity worth taking.</div></div></div></li>,\n",
       " <li class=\"slide\"><div class=\"image_and_description_container\"><a href=\"/news/8531/mars-2020-unwrapped-and-ready-for-more-testing/\" target=\"_self\"><div class=\"rollover_description\"><div class=\"rollover_description_inner\">In time-lapse video, bunny-suited engineers remove the inner layer of protective foil on NASA's Mars 2020 rover after it was relocated for testing.</div><div class=\"overlay_arrow\"><img alt=\"More\" src=\"/assets/overlay-arrow.png\"/></div></div><div class=\"list_image\"><img alt=\"Mars 2020 Unwrapped and Ready for Testing: In time-lapse video bunny-suited engineers remove the inner layer of protective foil on NASA's Mars 2020 rover after it was moved to a different building at JPL for testing.\" src=\"/system/news_items/list_view_images/8531_PIA23467-320x240.gif\"/></div><div class=\"bottom_gradient\"><div><h3>Mars 2020 Unwrapped and Ready for More Testing</h3></div></div></a><div class=\"list_text\"><div class=\"list_date\">October 18, 2019</div><div class=\"content_title\"><a href=\"/news/8531/mars-2020-unwrapped-and-ready-for-more-testing/\" target=\"_self\">Mars 2020 Unwrapped and Ready for More Testing</a></div><div class=\"article_teaser_body\">In time-lapse video, bunny-suited engineers remove the inner layer of protective foil on NASA's Mars 2020 rover after it was relocated for testing.</div></div></div></li>,\n",
       " <li class=\"slide\"><div class=\"image_and_description_container\"><a href=\"/news/8528/hirise-views-nasas-insight-and-curiosity-on-mars/\" target=\"_self\"><div class=\"rollover_description\"><div class=\"rollover_description_inner\">New images taken from space offer the clearest orbital glimpse yet of InSight as well as a view of Curiosity rolling along.</div><div class=\"overlay_arrow\"><img alt=\"More\" src=\"/assets/overlay-arrow.png\"/></div></div><div class=\"list_image\"><img alt=\"The HiRISE camera on NASA's Mars Reconnaissance Orbiter got its best view yet of the InSight lander on September 23, 2019\" src=\"/system/news_items/list_view_images/8528_PIA23376-320x240.jpg\"/></div><div class=\"bottom_gradient\"><div><h3>HiRISE Views NASA's InSight and Curiosity on Mars</h3></div></div></a><div class=\"list_text\"><div class=\"list_date\">October 16, 2019</div><div class=\"content_title\"><a href=\"/news/8528/hirise-views-nasas-insight-and-curiosity-on-mars/\" target=\"_self\">HiRISE Views NASA's InSight and Curiosity on Mars</a></div><div class=\"article_teaser_body\">New images taken from space offer the clearest orbital glimpse yet of InSight as well as a view of Curiosity rolling along.</div></div></div></li>,\n",
       " <li class=\"slide\"><div class=\"image_and_description_container\"><a href=\"/news/8522/nasas-curiosity-rover-finds-an-ancient-oasis-on-mars/\" target=\"_self\"><div class=\"rollover_description\"><div class=\"rollover_description_inner\">New evidence suggests salty, shallow ponds once dotted a Martian crater — a sign of the planet's drying climate.</div><div class=\"overlay_arrow\"><img alt=\"More\" src=\"/assets/overlay-arrow.png\"/></div></div><div class=\"list_image\"><img alt='The network of cracks in this Martian rock slab called \"Old Soaker\" may have formed from the drying of a mud layer more than 3 billion years ago. ' src=\"/system/news_items/list_view_images/8522_PIA21261-320x240.jpg\"/></div><div class=\"bottom_gradient\"><div><h3>NASA's Curiosity Rover Finds an Ancient Oasis on Mars</h3></div></div></a><div class=\"list_text\"><div class=\"list_date\">October  7, 2019</div><div class=\"content_title\"><a href=\"/news/8522/nasas-curiosity-rover-finds-an-ancient-oasis-on-mars/\" target=\"_self\">NASA's Curiosity Rover Finds an Ancient Oasis on Mars</a></div><div class=\"article_teaser_body\">New evidence suggests salty, shallow ponds once dotted a Martian crater — a sign of the planet's drying climate.</div></div></div></li>,\n",
       " <li class=\"slide\"><div class=\"image_and_description_container\"><a href=\"/news/8520/nasas-mars-2020-rover-tests-descent-stage-separation/\" target=\"_self\"><div class=\"rollover_description\"><div class=\"rollover_description_inner\">A crane lifts the rocket-powered descent stage away from NASA's Mars 2020 rover after technicians tested the pyrotechnic charges that separate the two spacecraft.</div><div class=\"overlay_arrow\"><img alt=\"More\" src=\"/assets/overlay-arrow.png\"/></div></div><div class=\"list_image\"><img alt=\"Engineers and technicians working on the Mars 2020 spacecraft, look on as a crane lifts the rocket-powered descent stage away from the rover after a test. \" src=\"/system/news_items/list_view_images/8520_PIA23466-226.jpg\"/></div><div class=\"bottom_gradient\"><div><h3>NASA's Mars 2020 Rover Tests Descent-Stage Separation</h3></div></div></a><div class=\"list_text\"><div class=\"list_date\">October  4, 2019</div><div class=\"content_title\"><a href=\"/news/8520/nasas-mars-2020-rover-tests-descent-stage-separation/\" target=\"_self\">NASA's Mars 2020 Rover Tests Descent-Stage Separation</a></div><div class=\"article_teaser_body\">A crane lifts the rocket-powered descent stage away from NASA's Mars 2020 rover after technicians tested the pyrotechnic charges that separate the two spacecraft.</div></div></div></li>,\n",
       " <li class=\"slide\"><div class=\"image_and_description_container\"><a href=\"/news/8518/nasas-push-to-save-the-mars-insight-landers-heat-probe/\" target=\"_self\"><div class=\"rollover_description\"><div class=\"rollover_description_inner\">The scoop on the end of the spacecraft's robotic arm will be used to 'pin' the mole against the wall of its hole.</div><div class=\"overlay_arrow\"><img alt=\"More\" src=\"/assets/overlay-arrow.png\"/></div></div><div class=\"list_image\"><img alt=\"InSight's robotic arm will use its scoop to pin the spacecraft's heat probe, or &quot;mole,&quot; against the wall of its hole.\" src=\"/system/news_items/list_view_images/8518_PIA23373-320x240.gif\"/></div><div class=\"bottom_gradient\"><div><h3>NASA's Push to Save the Mars InSight Lander's Heat Probe</h3></div></div></a><div class=\"list_text\"><div class=\"list_date\">October  3, 2019</div><div class=\"content_title\"><a href=\"/news/8518/nasas-push-to-save-the-mars-insight-landers-heat-probe/\" target=\"_self\">NASA's Push to Save the Mars InSight Lander's Heat Probe</a></div><div class=\"article_teaser_body\">The scoop on the end of the spacecraft's robotic arm will be used to 'pin' the mole against the wall of its hole.</div></div></div></li>,\n",
       " <li class=\"slide\"><div class=\"image_and_description_container\"><a href=\"/news/8517/nasas-insight-hears-peculiar-sounds-on-mars/\" target=\"_self\"><div class=\"rollover_description\"><div class=\"rollover_description_inner\">Listen to the marsquakes and other, less-expected sounds that the Mars lander has been detecting.</div><div class=\"overlay_arrow\"><img alt=\"More\" src=\"/assets/overlay-arrow.png\"/></div></div><div class=\"list_image\"><img alt=\"Clouds drift over the dome-covered seismometer, known as SEIS, belonging to NASA's InSight lander, on Mars.\" src=\"/system/news_items/list_view_images/8517_PIA23180-226.gif\"/></div><div class=\"bottom_gradient\"><div><h3>NASA's InSight 'Hears' Peculiar Sounds on Mars</h3></div></div></a><div class=\"list_text\"><div class=\"list_date\">October  1, 2019</div><div class=\"content_title\"><a href=\"/news/8517/nasas-insight-hears-peculiar-sounds-on-mars/\" target=\"_self\">NASA's InSight 'Hears' Peculiar Sounds on Mars</a></div><div class=\"article_teaser_body\">Listen to the marsquakes and other, less-expected sounds that the Mars lander has been detecting.</div></div></div></li>,\n",
       " <li class=\"slide\"><div class=\"image_and_description_container\"><a href=\"/news/8512/nasa-mars-mission-connects-with-bosnian-and-herzegovinian-town/\" target=\"_self\"><div class=\"rollover_description\"><div class=\"rollover_description_inner\">A letter from NASA was presented to the mayor of Jezero, Bosnia-Herzegovina, honoring the connection between the town and Jezero Crater, the Mars 2020 rover landing site.</div><div class=\"overlay_arrow\"><img alt=\"More\" src=\"/assets/overlay-arrow.png\"/></div></div><div class=\"list_image\"><img alt=\"In this picture, Ružičić snaps a selfie of the ambassador with local schooldren. \" src=\"/system/news_items/list_view_images/8512_PIA23463-320x240.jpg\"/></div><div class=\"bottom_gradient\"><div><h3>NASA Mars Mission Connects With Bosnian and Herzegovinian Town</h3></div></div></a><div class=\"list_text\"><div class=\"list_date\">September 23, 2019</div><div class=\"content_title\"><a href=\"/news/8512/nasa-mars-mission-connects-with-bosnian-and-herzegovinian-town/\" target=\"_self\">NASA Mars Mission Connects With Bosnian and Herzegovinian Town</a></div><div class=\"article_teaser_body\">A letter from NASA was presented to the mayor of Jezero, Bosnia-Herzegovina, honoring the connection between the town and Jezero Crater, the Mars 2020 rover landing site.</div></div></div></li>,\n",
       " <li class=\"slide\"><div class=\"image_and_description_container\"><a href=\"/news/8511/deadline-closing-for-names-to-fly-on-nasas-next-mars-rover/\" target=\"_self\"><div class=\"rollover_description\"><div class=\"rollover_description_inner\">You have until Sept. 30 to send your names to Mars aboard the Mars 2020 rover. </div><div class=\"overlay_arrow\"><img alt=\"More\" src=\"/assets/overlay-arrow.png\"/></div></div><div class=\"list_image\"><img alt='The actor Brad Pitt (right) shows off his \"boarding pass\" for Mars with Jennifer Trosper (left), the Mars 2020 project systems engineer, at JPL on Sept. 6, 2019. ' src=\"/system/news_items/list_view_images/8511_PIA23279-226.jpg\"/></div><div class=\"bottom_gradient\"><div><h3>Deadline Closing for Names to Fly on NASA's Next Mars Rover</h3></div></div></a><div class=\"list_text\"><div class=\"list_date\">September 18, 2019</div><div class=\"content_title\"><a href=\"/news/8511/deadline-closing-for-names-to-fly-on-nasas-next-mars-rover/\" target=\"_self\">Deadline Closing for Names to Fly on NASA's Next Mars Rover</a></div><div class=\"article_teaser_body\">You have until Sept. 30 to send your names to Mars aboard the Mars 2020 rover. </div></div></div></li>,\n",
       " <li class=\"slide\"><div class=\"image_and_description_container\"><a href=\"/news/8510/nasa-wins-two-emmy-awards-for-interactive-mission-coverage/\" target=\"_self\"><div class=\"rollover_description\"><div class=\"rollover_description_inner\">NASA-JPL's coverage of the Mars InSight landing earns one of the two wins, making this the NASA center's second Emmy.</div><div class=\"overlay_arrow\"><img alt=\"More\" src=\"/assets/overlay-arrow.png\"/></div></div><div class=\"list_image\"><img alt=\"JPL team members with JPL deputy director Larry James at the 2019 Creative Arts Emmy Awards on Sunday, Sept. 15, 2019\" src=\"/system/news_items/list_view_images/8510_emmy20190916-32x24.jpg\"/></div><div class=\"bottom_gradient\"><div><h3>NASA Wins Two Emmy Awards for Interactive Mission Coverage</h3></div></div></a><div class=\"list_text\"><div class=\"list_date\">September 16, 2019</div><div class=\"content_title\"><a href=\"/news/8510/nasa-wins-two-emmy-awards-for-interactive-mission-coverage/\" target=\"_self\">NASA Wins Two Emmy Awards for Interactive Mission Coverage</a></div><div class=\"article_teaser_body\">NASA-JPL's coverage of the Mars InSight landing earns one of the two wins, making this the NASA center's second Emmy.</div></div></div></li>,\n",
       " <li class=\"slide\"><div class=\"image_and_description_container\"><a href=\"/news/8509/nasas-mars-2020-comes-full-circle/\" target=\"_self\"><div class=\"rollover_description\"><div class=\"rollover_description_inner\">Aiming to pinpoint the Martian vehicle's center of gravity, engineers took NASA's 2,300-pound Mars 2020 rover for a spin in the clean room at JPL. </div><div class=\"overlay_arrow\"><img alt=\"More\" src=\"/assets/overlay-arrow.png\"/></div></div><div class=\"list_image\"><img alt=\"In search of its center of gravity, engineers took NASA's 2,300-pound Mars 2020 for a clean room spin on Aug. 29, 2019.\" src=\"/system/news_items/list_view_images/8509_PIA23461-226.jpg\"/></div><div class=\"bottom_gradient\"><div><h3>NASA's Mars 2020 Comes Full Circle</h3></div></div></a><div class=\"list_text\"><div class=\"list_date\">September 12, 2019</div><div class=\"content_title\"><a href=\"/news/8509/nasas-mars-2020-comes-full-circle/\" target=\"_self\">NASA's Mars 2020 Comes Full Circle</a></div><div class=\"article_teaser_body\">Aiming to pinpoint the Martian vehicle's center of gravity, engineers took NASA's 2,300-pound Mars 2020 rover for a spin in the clean room at JPL. </div></div></div></li>,\n",
       " <li class=\"slide\"><div class=\"image_and_description_container\"><a href=\"/news/8508/nasa-invites-students-to-name-mars-2020-rover/\" target=\"_self\"><div class=\"rollover_description\"><div class=\"rollover_description_inner\">Through Nov. 1, K-12 students in the U.S. are encouraged to enter an essay contest to name NASA's next Mars rover.</div><div class=\"overlay_arrow\"><img alt=\"More\" src=\"/assets/overlay-arrow.png\"/></div></div><div class=\"list_image\"><img alt=\"The Mars 2020 Rover is preparing to launch to the Red Planet in July 2020, but it doesn't have a name yet. We're asking K-12 students across the United States to send in essays with their best name ideas by Nov. 1, 2019. \" src=\"/system/news_items/list_view_images/8508_Name_A_unannotated_MAIN-th.jpg\"/></div><div class=\"bottom_gradient\"><div><h3>NASA Invites Students to Name Mars 2020 Rover</h3></div></div></a><div class=\"list_text\"><div class=\"list_date\">August 28, 2019</div><div class=\"content_title\"><a href=\"/news/8508/nasa-invites-students-to-name-mars-2020-rover/\" target=\"_self\">NASA Invites Students to Name Mars 2020 Rover</a></div><div class=\"article_teaser_body\">Through Nov. 1, K-12 students in the U.S. are encouraged to enter an essay contest to name NASA's next Mars rover.</div></div></div></li>,\n",
       " <li class=\"slide\"><div class=\"image_and_description_container\"><a href=\"/news/8507/nasas-mars-helicopter-attached-to-mars-2020-rover/\" target=\"_self\"><div class=\"rollover_description\"><div class=\"rollover_description_inner\">The helicopter will be first aircraft to perform flight tests on another planet.</div><div class=\"overlay_arrow\"><img alt=\"More\" src=\"/assets/overlay-arrow.png\"/></div></div><div class=\"list_image\"><img alt=\"Engineers attached NASA's Mars Helicopter (circled in red) to the belly of the Mars 2020 rover.\" src=\"/system/news_items/list_view_images/8507_PIA23152-320x240.jpg\"/></div><div class=\"bottom_gradient\"><div><h3>NASA's Mars Helicopter Attached to Mars 2020 Rover </h3></div></div></a><div class=\"list_text\"><div class=\"list_date\">August 28, 2019</div><div class=\"content_title\"><a href=\"/news/8507/nasas-mars-helicopter-attached-to-mars-2020-rover/\" target=\"_self\">NASA's Mars Helicopter Attached to Mars 2020 Rover </a></div><div class=\"article_teaser_body\">The helicopter will be first aircraft to perform flight tests on another planet.</div></div></div></li>]"
      ]
     },
     "execution_count": 8,
     "metadata": {},
     "output_type": "execute_result"
    }
   ],
   "source": [
    "#mars hemisphere urls\n",
    "url = 'https://astrogeology.usgs.gov/search/results?q=hemisphere+enhanced&k1=target&v1=Mars'\n",
    "browser.visit(url)\n",
    "html = browser.html\n",
    "hemisphere_soup = bs(html, 'html.parser')\n",
    "hem_soup_urls = hemisphere_soup.find_all('div', class_='item')\n",
    "urls = []\n",
    "for item in range(0,4):\n",
    "    urls.append('https://astrogeology.usgs.gov' + hem_soup_urls[item].a['href'])\n",
    "hemisphere_image_urls = []\n",
    "for i in range(0,4):\n",
    "    browser.visit(urls[i])\n",
    "    html = browser.html\n",
    "    images_urls = bs(html, 'html.parser')\n",
    "    image_url = images_urls.find_all('li')[0].a['href']\n",
    "    images_urls.title.text\n",
    "    title = re.findall(\"(.+?) Enhanced\", images_urls.title.text)[0]\n",
    "    hemisphere_image_urls.append({'title': title, 'img_url': image_url })\n",
    "\n",
    "hemisphere_image_urls\n",
    "\n",
    "\n",
    "\n",
    "\n",
    "news_p"
   ]
  },
  {
   "cell_type": "code",
   "execution_count": 10,
   "metadata": {},
   "outputs": [
    {
     "data": {
      "text/plain": [
       "\"The agency's first step in returning rocks from Mars just arrived at Kennedy Space Center. The Mars 2020 team now begins readying for a launch to the Red Planet this July.NASA's Mars 2020 Rover Goes Coast-to-Coast to Prep for LaunchFebruary 12, 2020NASA's Mars 2020 Rover Goes Coast-to-Coast to Prep for LaunchThe agency's first step in returning rocks from Mars just arrived at Kennedy Space Center. The Mars 2020 team now begins readying for a launch to the Red Planet this July.\""
      ]
     },
     "execution_count": 10,
     "metadata": {},
     "output_type": "execute_result"
    }
   ],
   "source": [
    "news_p[0].text"
   ]
  },
  {
   "cell_type": "code",
   "execution_count": 11,
   "metadata": {},
   "outputs": [
    {
     "data": {
      "text/plain": [
       "'InSight sol 433 (2020-02-14) low -94.2ºC (-137.5ºF) high -8.9ºC (16.0ºF)\\nwinds from the W at 6.1 m/s (13.6 mph) gusting to 21.6 m/s (48.4 mph)\\npressure at 6.30 hPa'"
      ]
     },
     "execution_count": 11,
     "metadata": {},
     "output_type": "execute_result"
    }
   ],
   "source": []
  },
  {
   "cell_type": "code",
   "execution_count": null,
   "metadata": {},
   "outputs": [],
   "source": []
  }
 ],
 "metadata": {
  "kernelspec": {
   "display_name": "Python 3",
   "language": "python",
   "name": "python3"
  },
  "language_info": {
   "codemirror_mode": {
    "name": "ipython",
    "version": 3
   },
   "file_extension": ".py",
   "mimetype": "text/x-python",
   "name": "python",
   "nbconvert_exporter": "python",
   "pygments_lexer": "ipython3",
   "version": "3.7.3"
  }
 },
 "nbformat": 4,
 "nbformat_minor": 4
}
